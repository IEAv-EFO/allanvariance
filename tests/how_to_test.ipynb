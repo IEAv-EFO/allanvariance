{
 "cells": [
  {
   "cell_type": "markdown",
   "metadata": {},
   "source": [
    "# How to test the scripts?\n",
    "\n",
    "One way is to make use of unit tests, in which a minimum input with known output is used to compare the script result.\n",
    "\n",
    "Consider a simple input $y = [1,2,3,4]$, acquired with a sample time $\\tau_0$.\n",
    "\n",
    "The Allan variance is calculated as:\n",
    "\n",
    "$$\n",
    "\\sigma(\\tau)^2 = \\frac{1}{2} \\langle \\xi^2 \\rangle\n",
    "$$ \n",
    "\n",
    "where, \n",
    "$$\\xi = \\overline{y}_{k+1} - \\overline{y}_{k}$$\n",
    "\n",
    "and $\\overline{y}_k$ is the $y$ mean over a time $\\tau = m{\\cdot}\\tau_0$ (cluster size) and $k$ is the overlaping factor, it is an integer from $1$ to cluster size $m$. \n",
    "\n",
    "\n",
    "## Non-overlaping Allan variance\n",
    "\n",
    "For the input $y = [1,2,3,4]$, the cluster sizes must not exceed the limit $m \\leq N/2$, where $N$ is the total array size.\n",
    "The minimum $m$ value is $1$, although according to the Allan variance theory, two-sample variance, $m=2$ is the first representative variance.\n",
    "\n",
    "Therefore, $m = [1,2]$\n",
    "\n",
    "$$\\overline{y}(m=1) = [1,2,3,4]$$\n",
    "$$\\overline{y}(m=2) = \\left[\\frac{(1+2)}{2},\\frac{(3+4)}{2}\\right] = [1.5, 3.5]$$\n",
    "\n",
    "\n",
    "\n",
    "$$\\xi(m=1) = [2-1, 3-2, 4-3] = [1,1,1] $$\n",
    "$$\\xi(m=2) = [3.5 - 2.5] = [2] $$\n",
    "\n",
    "\n",
    "$$\\xi^2(m=1) = [1,1,1]$$\n",
    "$$\\xi^2(m=2) = [4]$$\n",
    "\n",
    "\n",
    "$$\\langle \\xi^2 \\rangle (m=1) = 1 $$\n",
    "$$\\langle \\xi^2 \\rangle (m=2) = 4 $$\n",
    "\n",
    "The Allan variance is:\n",
    "$$ \\sigma(\\tau)^2 (m=1) = 0.5 $$\n",
    "$$ \\sigma(\\tau)^2 (m=2) = 2 $$\n",
    "\n",
    "We can compare this result with the library Allantools"
   ]
  },
  {
   "cell_type": "code",
   "execution_count": 28,
   "metadata": {},
   "outputs": [
    {
     "data": {
      "text/plain": [
       "array([0.5, 2. ])"
      ]
     },
     "execution_count": 28,
     "metadata": {},
     "output_type": "execute_result"
    }
   ],
   "source": [
    "import allantools\n",
    "import numpy as np\n",
    "\n",
    "y = np.array([1,2,3,4,5,6])\n",
    "m = np.array([1,2])\n",
    "tau0 = 1 # just an example\n",
    "\n",
    "(taus, adev, ade, adn) = allantools.adev(y, data_type=\"freq\", taus=m)\n",
    "avar = adev**2\n",
    "avar"
   ]
  },
  {
   "cell_type": "markdown",
   "metadata": {},
   "source": [
    "Another example is \n",
    "\n",
    "$$\\overline{y}(m=1) =[3,1,0,-4,5,2]$$\n",
    "$$\\overline{y}(m=2) = [2,-2,3.5]$$\n",
    "$$\\overline{y}(m=3) = [2,1.5]$$\n",
    "\n",
    "\n",
    "$$\\xi(m=1) = [-2,-1,-4,9,-3] $$\n",
    "$$\\xi(m=2) = [-4,5.5] $$\n",
    "$$\\xi(m=3) = [-0.5] $$\n",
    "\n",
    "$$\\xi^2(m=1) = [4,1,16,81,9]$$\n",
    "$$\\xi^2(m=2) = [16,30.25]$$\n",
    "$$\\xi^2(m=3) = [0.25]$$\n",
    "\n",
    "\n",
    "$$\\langle \\xi^2 \\rangle (m=1) = 22.2 $$\n",
    "$$\\langle \\xi^2 \\rangle (m=2) = 23.125 $$\n",
    "$$\\langle \\xi^2 \\rangle (m=3) = 0.25 $$\n",
    "\n",
    "The Allan variance is:\n",
    "$$ \\sigma(\\tau)^2 (m=1) = 11.1 $$\n",
    "$$ \\sigma(\\tau)^2 (m=2) = 11.5625 $$\n",
    "$$ \\sigma(\\tau)^2 (m=3) = 0.125 $$"
   ]
  },
  {
   "cell_type": "code",
   "execution_count": 27,
   "metadata": {},
   "outputs": [
    {
     "data": {
      "text/plain": [
       "array([11.1   , 11.5625])"
      ]
     },
     "execution_count": 27,
     "metadata": {},
     "output_type": "execute_result"
    }
   ],
   "source": [
    "y = np.array([3,1,0,-4,5,2])\n",
    "m = np.array([1,2,3])\n",
    "tau0 = 1 # just an example\n",
    "\n",
    "(taus, adev, ade, adn) = allantools.adev(y, data_type=\"freq\", taus=m)\n",
    "avar = adev**2\n",
    "avar"
   ]
  }
 ],
 "metadata": {
  "kernelspec": {
   "display_name": "Python 3.9.0 64-bit",
   "language": "python",
   "name": "python3"
  },
  "language_info": {
   "codemirror_mode": {
    "name": "ipython",
    "version": 3
   },
   "file_extension": ".py",
   "mimetype": "text/x-python",
   "name": "python",
   "nbconvert_exporter": "python",
   "pygments_lexer": "ipython3",
   "version": "3.9.0"
  },
  "orig_nbformat": 4,
  "vscode": {
   "interpreter": {
    "hash": "075748935c6da9ec679055431b9264826c20f407ad544b75cbd0057c3edcc83e"
   }
  }
 },
 "nbformat": 4,
 "nbformat_minor": 2
}
